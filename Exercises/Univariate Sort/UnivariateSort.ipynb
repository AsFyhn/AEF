{
 "cells": [
  {
   "cell_type": "markdown",
   "metadata": {},
   "source": [
    "# Univariate Sort\n",
    "1. Load the monthly CRSP file, the Fama-French Factors, and the estimated betas from the tidy_finance_*.sqlite database.\n",
    "\n",
    "2. Create portfolio sorts based on the lagged beta. Specifically, you compute the breakpoint as the median lag beta each month. Then, you compute the returns of a portfolio that invests only in the stocks with a higher beta than the breakpoint and a portfolio that invests only in the stocks with a lower beta than the breakpoints. The portfolio weights can either be equal or value-weighted.\n",
    "\n",
    "3. What are the monthly excess returns of both portfolios?\n",
    "\n",
    "4. Does a portfolio that goes long high beta stocks and short low beta stocks yield an excess return significantly different from zero?\n",
    "\n",
    "5. Write a general function for portfolio sorts based on a variable number of breakpoints. Then, compute portfolio returns based on lagged beta decile sorts.\n",
    "\n",
    "6. What is the CAPM alpha of the ten portfolio returns? Is this finding in line with your expectations based on the CAPM implications?\n",
    "\n",
    "7. Does a high beta minus low beta portfolio yield abnormal excess returns?"
   ]
  },
  {
   "cell_type": "code",
   "execution_count": 6,
   "metadata": {},
   "outputs": [
    {
     "data": {
      "text/html": [
       "<div>\n",
       "<style scoped>\n",
       "    .dataframe tbody tr th:only-of-type {\n",
       "        vertical-align: middle;\n",
       "    }\n",
       "\n",
       "    .dataframe tbody tr th {\n",
       "        vertical-align: top;\n",
       "    }\n",
       "\n",
       "    .dataframe thead th {\n",
       "        text-align: right;\n",
       "    }\n",
       "</style>\n",
       "<table border=\"1\" class=\"dataframe\">\n",
       "  <thead>\n",
       "    <tr style=\"text-align: right;\">\n",
       "      <th></th>\n",
       "      <th>name</th>\n",
       "    </tr>\n",
       "  </thead>\n",
       "  <tbody>\n",
       "    <tr>\n",
       "      <th>0</th>\n",
       "      <td>trace_enhanced</td>\n",
       "    </tr>\n",
       "    <tr>\n",
       "      <th>1</th>\n",
       "      <td>crsp_daily</td>\n",
       "    </tr>\n",
       "    <tr>\n",
       "      <th>2</th>\n",
       "      <td>factors_ff3_monthly</td>\n",
       "    </tr>\n",
       "    <tr>\n",
       "      <th>3</th>\n",
       "      <td>factors_ff5_monthly</td>\n",
       "    </tr>\n",
       "    <tr>\n",
       "      <th>4</th>\n",
       "      <td>factors_ff3_daily</td>\n",
       "    </tr>\n",
       "    <tr>\n",
       "      <th>5</th>\n",
       "      <td>industries_ff_monthly</td>\n",
       "    </tr>\n",
       "    <tr>\n",
       "      <th>6</th>\n",
       "      <td>factors_q_monthly</td>\n",
       "    </tr>\n",
       "    <tr>\n",
       "      <th>7</th>\n",
       "      <td>macro_predictors</td>\n",
       "    </tr>\n",
       "    <tr>\n",
       "      <th>8</th>\n",
       "      <td>cpi_monthly</td>\n",
       "    </tr>\n",
       "    <tr>\n",
       "      <th>9</th>\n",
       "      <td>fisd</td>\n",
       "    </tr>\n",
       "    <tr>\n",
       "      <th>10</th>\n",
       "      <td>compustat</td>\n",
       "    </tr>\n",
       "    <tr>\n",
       "      <th>11</th>\n",
       "      <td>crsp_monthly</td>\n",
       "    </tr>\n",
       "    <tr>\n",
       "      <th>12</th>\n",
       "      <td>beta</td>\n",
       "    </tr>\n",
       "  </tbody>\n",
       "</table>\n",
       "</div>"
      ],
      "text/plain": [
       "                     name\n",
       "0          trace_enhanced\n",
       "1              crsp_daily\n",
       "2     factors_ff3_monthly\n",
       "3     factors_ff5_monthly\n",
       "4       factors_ff3_daily\n",
       "5   industries_ff_monthly\n",
       "6       factors_q_monthly\n",
       "7        macro_predictors\n",
       "8             cpi_monthly\n",
       "9                    fisd\n",
       "10              compustat\n",
       "11           crsp_monthly\n",
       "12                   beta"
      ]
     },
     "execution_count": 6,
     "metadata": {},
     "output_type": "execute_result"
    }
   ],
   "source": [
    "import pandas as pd\n",
    "import sqlite3\n",
    "from plotnine import *\n",
    "tidy_finance_python = sqlite3.connect( database=\"/Users/asbjornfyhn/Desktop/Emp Fin/data/tidy_finance_python.sqlite\")\n",
    "pd.read_sql_query('''SELECT name FROM sqlite_schema WHERE type ='table' AND  name NOT LIKE 'sqlite_%';''', con =tidy_finance_python)"
   ]
  },
  {
   "cell_type": "markdown",
   "metadata": {},
   "source": [
    "### 1. Part\n",
    "Load the monthly CRSP file, the Fama-French Factors, and the estimated betas from the tidy_finance_*.sqlite database."
   ]
  },
  {
   "cell_type": "code",
   "execution_count": 16,
   "metadata": {},
   "outputs": [
    {
     "name": "stdout",
     "output_type": "stream",
     "text": [
      "Index(['permno', 'date', 'month', 'ret', 'shrout', 'altprc', 'exchcd', 'siccd',\n",
      "       'mktcap', 'mktcap_lag', 'exchange', 'industry', 'ret_excess', 'gvkey'],\n",
      "      dtype='object')\n",
      "Index(['month', 'mkt_excess', 'smb', 'hml', 'rf'], dtype='object')\n",
      "Index(['permno', 'month', 'beta_monthly', 'beta_daily'], dtype='object')\n"
     ]
    }
   ],
   "source": [
    "print(pd.read_sql_query('''SELECT * FROM crsp_monthly limit 1 ;''', con =tidy_finance_python).columns)\n",
    "print(pd.read_sql_query('''SELECT * FROM factors_ff3_monthly limit 1 ;''', con =tidy_finance_python).columns)\n",
    "print(pd.read_sql_query('''SELECT * FROM beta limit 1 ;''', con =tidy_finance_python).columns)"
   ]
  },
  {
   "cell_type": "code",
   "execution_count": 17,
   "metadata": {},
   "outputs": [],
   "source": [
    "crps_monthly = (pd.read_sql_query('select * from crsp_monthly;',con=tidy_finance_python, parse_dates={\"month\"}))\n",
    "ff3_monthly = (pd.read_sql_query('select * from factors_ff3_monthly;',con=tidy_finance_python, parse_dates={\"month\"}))\n",
    "beta_monthly = (pd.read_sql_query('select * from beta;',con=tidy_finance_python, parse_dates={\"month\"}))\n"
   ]
  }
 ],
 "metadata": {
  "kernelspec": {
   "display_name": "py39",
   "language": "python",
   "name": "python3"
  },
  "language_info": {
   "codemirror_mode": {
    "name": "ipython",
    "version": 3
   },
   "file_extension": ".py",
   "mimetype": "text/x-python",
   "name": "python",
   "nbconvert_exporter": "python",
   "pygments_lexer": "ipython3",
   "version": "3.9.16"
  }
 },
 "nbformat": 4,
 "nbformat_minor": 2
}
