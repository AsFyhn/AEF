{
 "cells": [
  {
   "cell_type": "markdown",
   "metadata": {},
   "source": [
    "# Univariate Sort\n",
    "1. Load the monthly CRSP file, the Fama-French Factors, and the estimated betas from the tidy_finance_*.sqlite database.\n",
    "\n",
    "2. Create portfolio sorts based on the lagged beta. Specifically, you compute the breakpoint as the median lag beta each month. Then, you compute the returns of a portfolio that invests only in the stocks with a higher beta than the breakpoint and a portfolio that invests only in the stocks with a lower beta than the breakpoints. The portfolio weights can either be equal or value-weighted.\n",
    "\n",
    "3. What are the monthly excess returns of both portfolios?\n",
    "\n",
    "4. Does a portfolio that goes long high beta stocks and short low beta stocks yield an excess return significantly different from zero?\n",
    "\n",
    "5. Write a general function for portfolio sorts based on a variable number of breakpoints. Then, compute portfolio returns based on lagged beta decile sorts.\n",
    "\n",
    "6. What is the CAPM alpha of the ten portfolio returns? Is this finding in line with your expectations based on the CAPM implications?\n",
    "\n",
    "7. Does a high beta minus low beta portfolio yield abnormal excess returns?"
   ]
  },
  {
   "cell_type": "code",
   "execution_count": null,
   "metadata": {},
   "outputs": [],
   "source": [
    "import pandas as pd, numpy as np\n",
    "import sqlite3, time\n",
    "from copy import deepcopy\n",
    "from plotnine import *\n",
    "from mizani.formatters import percent_format, number_bytes_format\n",
    "import statsmodels.api as sm\n",
    "tidy_finance_python = sqlite3.connect( database=\"/Users/asbjornfyhn/Desktop/Emp Fin/data/tidy_finance_python.sqlite\")\n",
    "pd.read_sql_query('''SELECT name FROM sqlite_schema WHERE type ='table' AND  name NOT LIKE 'sqlite_%';''', con =tidy_finance_python)"
   ]
  },
  {
   "cell_type": "markdown",
   "metadata": {},
   "source": [
    "### 1. Part\n",
    "**Load the monthly CRSP file, the Fama-French Factors, and the estimated betas from the tidy_finance_*.sqlite database.**"
   ]
  },
  {
   "cell_type": "markdown",
   "metadata": {},
   "source": [
    "Check all columns for all three tables "
   ]
  },
  {
   "cell_type": "code",
   "execution_count": null,
   "metadata": {},
   "outputs": [],
   "source": [
    "print(pd.read_sql_query('''SELECT * FROM crsp_monthly limit 1 ;''', con =tidy_finance_python).columns)\n",
    "print(pd.read_sql_query('''SELECT * FROM factors_ff3_monthly limit 1 ;''', con =tidy_finance_python).columns)\n",
    "print(pd.read_sql_query('''SELECT * FROM beta limit 1 ;''', con =tidy_finance_python).columns)"
   ]
  },
  {
   "cell_type": "markdown",
   "metadata": {},
   "source": [
    "Read data from allt three tables in the database"
   ]
  },
  {
   "cell_type": "code",
   "execution_count": 98,
   "metadata": {},
   "outputs": [],
   "source": [
    "crps_monthly = (pd.read_sql_query('select * from crsp_monthly;',con=tidy_finance_python, parse_dates={\"month\"}))\n",
    "ff3_monthly = (pd.read_sql_query('select * from factors_ff3_monthly;',con=tidy_finance_python, parse_dates={\"month\"}))\n",
    "beta_monthly = (pd.read_sql_query('select * from beta;',con=tidy_finance_python, parse_dates={\"month\"}))\n"
   ]
  },
  {
   "cell_type": "markdown",
   "metadata": {},
   "source": [
    "Merge crps_monthly and beta_monthly on permno (company specific) and month (date). Then merge the result with fama_french_monthly on date."
   ]
  },
  {
   "cell_type": "code",
   "execution_count": null,
   "metadata": {},
   "outputs": [],
   "source": [
    "# merge crsp and beta on month and permno\n",
    "df = pd.merge(crps_monthly, beta_monthly, on=[\"month\",'permno'],how='left')\n",
    "# merge with ff3 factors on month\n",
    "df = pd.merge(df, ff3_monthly, on=[\"month\"],how='left')\n",
    "# drop rows where beta is missing values -- before 1964 \n",
    "df.dropna(subset=['beta_monthly'], inplace=True)\n",
    "# sort by month and permno\n",
    "df = df.sort_values(by=['month','permno']).reset_index(drop=True)"
   ]
  },
  {
   "cell_type": "code",
   "execution_count": null,
   "metadata": {},
   "outputs": [],
   "source": [
    "print(df[['month','permno','ret','ret_excess','beta_monthly']].iloc[:10,:])"
   ]
  },
  {
   "cell_type": "markdown",
   "metadata": {},
   "source": [
    "### 2. Part and 3. Part\n",
    "**2. Create portfolio sorts based on the lagged beta. Specifically, you compute the breakpoint as the median lag beta each month. Then, you compute the returns of a portfolio that invests only in the stocks with a higher beta than the breakpoint and a portfolio that invests only in the stocks with a lower beta than the breakpoints. The portfolio weights can either be equal or value-weighted.**\n",
    "\n",
    "**3. What are the monthly excess returns of both portfolios?**"
   ]
  },
  {
   "cell_type": "markdown",
   "metadata": {},
   "source": [
    "*First of we lag the monthly beta estimates by 1 month.*\n",
    "\n",
    "*Next, we calculate the median beta and use it as a breaking point.*\n",
    "\n",
    "*Lastly, we create two portfolios with equal weigths: one with all the companies with a beta below the median and one with betas above the median*"
   ]
  },
  {
   "cell_type": "code",
   "execution_count": null,
   "metadata": {},
   "outputs": [],
   "source": [
    "# lag the beta by one month\n",
    "df['beta_monthly'] = df.groupby('permno')['beta_monthly'].shift(1)\n",
    "# calculate median of beta for each month\n",
    "beta_median = df.groupby('month')['beta_monthly'].median()\n",
    "# create a new column that indicates if the beta is above the median\n",
    "df['beta_above_median'] = df['beta_monthly'] > df['month'].map(beta_median)\n",
    "# for each month calculate the portfolio weight as equal weighted only for the stocks with beta above the median\n",
    "df['portfolio_weight_above'] = df['beta_above_median'] / df.groupby('month')['beta_above_median'].transform('sum')\n",
    "df['portfolio_weight_below'] = (1-df['beta_above_median']) / df.groupby('month')['beta_above_median'].transform('sum')"
   ]
  },
  {
   "cell_type": "markdown",
   "metadata": {},
   "source": [
    "*We loop through all months in the dataframe. We check if the portfolio weights related to the month of inspection sum to 1. Then, we create the return for each portfolio and store it in the dataframe port_df*"
   ]
  },
  {
   "cell_type": "code",
   "execution_count": null,
   "metadata": {},
   "outputs": [],
   "source": [
    "# create a dataframe with 'month' as index\n",
    "port_df = pd.DataFrame(index=df['month'].unique(),columns=['portfolio_return_above', 'portfolio_return_below'])\n",
    "\n",
    "for month in df['month'].unique():\n",
    "    sum_ = df[df['month'] == month]['portfolio_weight_above'].sum()\n",
    "    if not np.isclose(sum_, 1):\n",
    "        print(f'The sum of portfolio weights is not 1 but {sum_:0.2f} for month {month}')\n",
    "    else: \n",
    "        weights_below = df.loc[df['month'] == month, 'portfolio_weight_below'].values\n",
    "        weights_above = df.loc[df['month'] == month, 'portfolio_weight_above'].values\n",
    "        returns = df.loc[df['month'] == month, 'ret'].values\n",
    "        excess_return = df.loc[df['month'] == month, 'ret_excess'].values\n",
    "        port_df.loc[month, 'portfolio_return_below'] = weights_below @ returns.T\n",
    "        port_df.loc[month, 'portfolio_excess_return_below'] = weights_below @ excess_return.T\n",
    "        port_df.loc[month, 'portfolio_return_above'] = weights_above @ returns.T\n",
    "        port_df.loc[month, 'portfolio_excess_return_above'] = weights_above @ excess_return.T\n",
    "        \n",
    "        # print(f'The portfolio return for month {month} is {weights_above @ returns.T:0.2%}')\n"
   ]
  },
  {
   "cell_type": "markdown",
   "metadata": {},
   "source": [
    "*Transforming the dataframe to make it have the right formats etc.*\n",
    "From the summary statistics, we see that the mean for the portoflio"
   ]
  },
  {
   "cell_type": "code",
   "execution_count": null,
   "metadata": {},
   "outputs": [],
   "source": [
    "port_df = (port_df\n",
    "           .reset_index(drop=False)\n",
    "           .rename(columns={'index':'month'})\n",
    "           .assign(month = lambda x: pd.to_datetime(x['month']))\n",
    "           .sort_values(by='month')\n",
    "           .set_index('month')\n",
    "           .assign(portfolio_return_above = lambda x: x['portfolio_return_above'].astype(float),\n",
    "                     portfolio_return_below = lambda x: x['portfolio_return_below'].astype(float),\n",
    "                     portfolio_excess_return_above = lambda x: x['portfolio_excess_return_above'].astype(float),\n",
    "                        portfolio_excess_return_below = lambda x: x['portfolio_excess_return_below'].astype(float))\n",
    "           .rename(columns={\n",
    "               'portfolio_return_above':'High beta Return',\n",
    "               'portfolio_return_below':'Low beta Return',\n",
    "               'portfolio_excess_return_above':'High beta Excess Return',\n",
    "               'portfolio_excess_return_below':'Low beta Excess Return'\n",
    "           })\n",
    "           )\n",
    "print(port_df.describe())"
   ]
  },
  {
   "cell_type": "code",
   "execution_count": null,
   "metadata": {},
   "outputs": [],
   "source": [
    "# stack the dataframe\n",
    "port_df_stack = (port_df\n",
    "                 .stack()\n",
    "                 .reset_index()\n",
    "                 .rename(columns={'level_1':'Portfolio',0:'return'})\n",
    "                 .assign(excess_indicator = lambda x: x['Portfolio'].str.contains('Excess'))\n",
    "                 )\n",
    "print(port_df_stack.head())\n",
    "# create a boxplot of the portfolio returns\n",
    "(ggplot(port_df_stack.dropna(subset=['return'])) +\n",
    "    aes(y='return',x='Portfolio') +\n",
    "    geom_boxplot(colour=\"#1F3552\", \n",
    "                 fill=\"lightskyblue\",\n",
    "                 alpha=0.7, # transparency for the fill\n",
    "                 outlier_shape=\".\", # shape of outlier\n",
    "                 outlier_colour=\"steelblue\", # colour of outlier\n",
    "                 width=0.6\n",
    "                 ) +\n",
    "    geom_jitter(\n",
    "        colour=\"grey\",\n",
    "        fill=\"black\",\n",
    "        width=.2,\n",
    "        alpha=.05,\n",
    "    ) + \n",
    "    theme_minimal(\n",
    "        base_size=12,\n",
    "        base_family='serif',\n",
    "    ) + \n",
    "    labs(title='Portfolio returns for stocks with beta above median', x='Portfolio', y='Monthly Return') +\n",
    "    scale_y_continuous(breaks=np.arange(-0.45, 0.401, 0.05), limits=[port_df_stack['return'].min(), port_df_stack['return'].max()]) +\n",
    "    theme(axis_text_x=element_text(angle=45, hjust=1))\n",
    "    )\n"
   ]
  },
  {
   "cell_type": "markdown",
   "metadata": {},
   "source": [
    "### 4. Part\n",
    "**Does a portfolio that goes long high beta stocks and short low beta stocks yield an excess return significantly different from zero?**"
   ]
  },
  {
   "cell_type": "markdown",
   "metadata": {},
   "source": [
    "We can test the hypothesis that the excess return is zero using a t-test. \n",
    "\n",
    "Thus, we start by creating a portfolio that goes long in high beta stocks and short in low beta stocks. We then calculate the excess return of the portfolio."
   ]
  },
  {
   "cell_type": "code",
   "execution_count": null,
   "metadata": {},
   "outputs": [],
   "source": [
    "a = (port_df\n",
    "     .dropna()\n",
    "     .assign(long_short = lambda x: x['High beta Excess Return'] - x['Low beta Excess Return']))\n",
    "print(a.head())"
   ]
  },
  {
   "cell_type": "code",
   "execution_count": null,
   "metadata": {},
   "outputs": [],
   "source": [
    "model = (sm.OLS(exog=np.ones(len(a['long_short'])),endog=a['long_short']))\n",
    "(model\n",
    " .fit(\n",
    "     cov_type=\"HAC\",\n",
    "     cov_kwds={\"maxlags\": 6})\n",
    "     .summary(\n",
    "         xname='1',\n",
    "         yname='Excess Return',\n",
    "         alpha=0.05,\n",
    "         title='Regression of High minus Low beta portfolio excess return on constant',\n",
    "         slim=True)\n",
    "     )"
   ]
  },
  {
   "cell_type": "markdown",
   "metadata": {},
   "source": [
    "### 5. Part\n",
    "\n",
    "**5. Write a general function for portfolio sorts based on a variable number of breakpoints. Then, compute portfolio returns based on lagged beta decile sorts.**"
   ]
  },
  {
   "cell_type": "markdown",
   "metadata": {},
   "source": [
    "We create a portfolio portfolio_sort that creates portfolio sorts based on a variable number of breakpoints. After that it creates a portfolio for each month in the dataframe. The portfolio is simply created as a equal weighted portfolio of the stocks that are in the decile."
   ]
  },
  {
   "cell_type": "code",
   "execution_count": null,
   "metadata": {},
   "outputs": [],
   "source": [
    "def portfolio_sorts(\n",
    "        df:pd.DataFrame,\n",
    "        no_of_break_points:int=2,\n",
    "        beta_col:str='beta_monthly',\n",
    "        month_col:str='month',\n",
    "        beta_lagged:bool=True,\n",
    "        create_pf_weights:bool=False\n",
    "        ):\n",
    "    \"\"\" \n",
    "    This function performs the portfolio sorts and returns the portfolio returns\n",
    "    \"\"\"\n",
    "    \n",
    "    return_cols = ['month','ret','ret_excess','beta_quantile'] # define the columns to return\n",
    "\n",
    "    df = df.dropna(subset=[beta_col]) # drop rows where beta is missing values\n",
    "    \n",
    "    # in case the beta is not lagged, we need to lag the beta by one month\n",
    "    if beta_lagged: \n",
    "        df[beta_col] = df.groupby('permno')[beta_col].shift(1) # lag the beta by one month\n",
    "    \n",
    "    # calculate the break points for the beta\n",
    "    v =  df.groupby(month_col).apply(lambda x: pd.qcut(x[beta_col]+1, no_of_break_points, labels=False))\n",
    "    v = v.reset_index(drop=False).rename(columns={'level_1':'index',beta_col:'beta_quantile'}).set_index('index').drop(columns=month_col)\n",
    "    df = pd.concat([df, v], axis=1, join='outer')\n",
    "\n",
    "    # create portfolio weights\n",
    "    if create_pf_weights:\n",
    "        ts_sum = 0\n",
    "        print(f'Creating portfolio weights for {no_of_break_points} portfolios and {len(df[month_col].unique())} months.')\n",
    "        for i in range(no_of_break_points):\n",
    "            ts = time.time()\n",
    "            b = df['beta_quantile'] == i\n",
    "            df[f'portfolio_weight_{i}'] = 0.0\n",
    "            df.loc[b, f'portfolio_weight_{i}'] = 1.0\n",
    "            return_cols.append(f'portfolio_weight_{i}') # appending the portfolio_weights columns to the return_cols\n",
    "\n",
    "            \n",
    "            for month in df[month_col].unique():\n",
    "                m_cons = df[month_col] == month\n",
    "                sum_ = df[m_cons][f'portfolio_weight_{i}'].sum()\n",
    "                df.loc[(m_cons)&(b), f'portfolio_weight_{i}'] = 1/sum_\n",
    "            \n",
    "            ts_sum += time.time() - ts\n",
    "            del ts\n",
    "        print(f'Average time to calculate portfolio weights: {ts_sum/no_of_break_points:0.2f} seconds')\n",
    "    return df[return_cols]\n"
   ]
  },
  {
   "cell_type": "markdown",
   "metadata": {},
   "source": [
    "We use the function to create a portfolio for each decile."
   ]
  },
  {
   "cell_type": "code",
   "execution_count": null,
   "metadata": {},
   "outputs": [],
   "source": [
    "v = portfolio_sorts(deepcopy(df), \n",
    "                    no_of_break_points=10, \n",
    "                    beta_col='beta_monthly', \n",
    "                    month_col='month', \n",
    "                    beta_lagged=False,\n",
    "                    create_pf_weights=True\n",
    "                    )"
   ]
  },
  {
   "cell_type": "markdown",
   "metadata": {},
   "source": [
    "Calculate the return for each portfolio."
   ]
  },
  {
   "cell_type": "code",
   "execution_count": null,
   "metadata": {},
   "outputs": [],
   "source": [
    "# calculate the returns for the portfolios\n",
    "beta_sorted_df = pd.DataFrame(index=v['month'].unique(),columns=[f'portfolio_{i}' for i in range(10)])\n",
    "for i in range(10):\n",
    "    print(f'Calculating returns for portfolio {i}')\n",
    "    beta_sorted_df.loc[:,f'portfolio_{i}'] = (v.assign(\n",
    "        ret_con_i = lambda x: x['ret']*x[f'portfolio_weight_{str(i)}'],\n",
    "        ).groupby('month')['ret_con_i'].sum())"
   ]
  },
  {
   "cell_type": "code",
   "execution_count": null,
   "metadata": {},
   "outputs": [],
   "source": [
    "# https://ucsbcarpentry.github.io/2021-08-23-ucsb-python-online/07-visualization-ggplot-python/index.html\n",
    "beta_sorted_df_mean = beta_sorted_df.mean().to_frame().reset_index(drop=False,names=['portfolio']).rename(columns={0:'avg_ret'})\n",
    "beta_sorted_df_mean['avg_ret'] = beta_sorted_df_mean['avg_ret'].astype(float)\n",
    "# create a chart with average returns for the portfolios\n",
    "print(ggplot(beta_sorted_df_mean) +\n",
    "    aes(x='portfolio',y='avg_ret') +\n",
    "    geom_col() +\n",
    "    labs(title='Average returns for beta sorted portfolios', x='Month', y='Monthly Return') +\n",
    "    theme(axis_text_x=element_text(angle=45, hjust=1)) +\n",
    "    scale_y_continuous(labels=percent_format()) + \n",
    "    theme_minimal(\n",
    "        base_size=12,\n",
    "        base_family='serif',\n",
    "    ) +\n",
    "    theme(axis_text_x=element_text(angle=45, hjust=1)) \n",
    "    )\n",
    "del beta_sorted_df_mean"
   ]
  },
  {
   "cell_type": "markdown",
   "metadata": {},
   "source": [
    "### 6. Part\n",
    "**What is the CAPM alpha of the ten portfolio returns? Is this finding in line with your expectations based on the CAPM implications?**"
   ]
  },
  {
   "cell_type": "markdown",
   "metadata": {},
   "source": [
    "We"
   ]
  },
  {
   "cell_type": "code",
   "execution_count": null,
   "metadata": {},
   "outputs": [],
   "source": [
    "beta_melted_df = beta_sorted_df.reset_index(drop=False, names=['month']).melt(id_vars='month', value_vars=[f'portfolio_{i}' for i in range(10)], var_name='portfolio', value_name='return')"
   ]
  },
  {
   "cell_type": "markdown",
   "metadata": {},
   "source": [
    "### 7. Part\n",
    "**Does a high beta minus low beta portfolio yield abnormal excess returns?**"
   ]
  }
 ],
 "metadata": {
  "kernelspec": {
   "display_name": "py39",
   "language": "python",
   "name": "python3"
  },
  "language_info": {
   "codemirror_mode": {
    "name": "ipython",
    "version": 3
   },
   "file_extension": ".py",
   "mimetype": "text/x-python",
   "name": "python",
   "nbconvert_exporter": "python",
   "pygments_lexer": "ipython3",
   "version": "3.10.13"
  }
 },
 "nbformat": 4,
 "nbformat_minor": 2
}
