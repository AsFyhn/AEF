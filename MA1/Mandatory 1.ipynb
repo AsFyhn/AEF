{
  "cells": [
    {
      "cell_type": "raw",
      "metadata": {},
      "source": [
        "---\n",
        "title: \"Mandatory Assignment 1\"\n",
        "author: \"Asbjørn Fyhn & Emil Beckett Kolko\"\n",
        "date: \"2024-03-08\"\n",
        "execute: \n",
        "  echo: false\n",
        "  warning: false\n",
        "format:\n",
        "  pdf: \n",
        "    number-sections: true\n",
        "    colorlinks: true\n",
        "    geometry:\n",
        "      - top=20mm\n",
        "      - left=20mm\n",
        "      - bottom=20mm\n",
        "      - right=20mm\n",
        "    cite-method: natbib\n",
        "    fontsize: 12pt\n",
        "bibliography: references.bib\n",
        "---"
      ],
      "id": "d19b0dbd"
    },
    {
      "cell_type": "markdown",
      "metadata": {},
      "source": [
        "## Quarto - a framework for reproducible research\n",
        "\n",
        "Quarto enables you to weave together content and executable code into a finished document. To learn more about Quarto see <https://quarto.org>. When you click the **Render** button a document will be generated that includes both content and the output of embedded code. The template below can be used to submit your answers for the mandatory assignment. Within the template you find all typical issues. By default, code is omitted in the output (can be changed with `echo: true` in line 6). Formatting is done using markdown (e.g., check out how to use \\# to define sections and subsections or how to generate bold text). Footnotes and citations are easy. You can also include math notation using LaTeX style. The template contains inline code execution (e.g. to automatically return the ticker of the asset with the highest Sharpe ratio) and shows how to embed figures into the document.\n",
        "\n",
        "## Exercise\n",
        "\n",
        "1. Download daily adjusted prices for all constituents of three stocks: AAPL, MSFT, and BA for the period from January 1st, 2000 until December 31st, 2022 from Yahoo!Finance. Explicitly include the code you use to download the data into your report. Compute the daily returns for each of the tickers."
      ],
      "id": "10282c93"
    },
    {
      "cell_type": "code",
      "metadata": {},
      "source": [
        "import pandas as pd\n",
        "import numpy as np\n",
        "import yfinance as yf\n",
        "\n",
        "ticker = [\"AAPL\", \"MSFT\", \"BA\"]\n",
        "prices = (yf.download(tickers=ticker,\n",
        "                            start=\"2000-01-01\",\n",
        "                            end=\"2022-12-31\",\n",
        "                            progress=False)\n",
        "  .melt(ignore_index=False,\n",
        "        var_name=[\"variable\", \"symbol\"])\n",
        "  .reset_index()\n",
        "  .pivot(index=[\"Date\", \"symbol\"],\n",
        "         columns=\"variable\",\n",
        "         values=\"value\")\n",
        "  .get(\"Adj Close\")\n",
        "  .reset_index()\n",
        "  .rename(columns = {\"Date\": \"date\",\n",
        "                     \"Adj Close\": \"adjusted\"})\n",
        ")\n",
        "\n",
        "returns = (prices\n",
        "  .assign(ret = lambda x: x.groupby(\"symbol\")[\"adjusted\"].pct_change())\n",
        "  .get([\"symbol\", \"date\", \"ret\"])\n",
        "  .dropna(subset=\"ret\")\n",
        ")"
      ],
      "id": "75d75aa8",
      "execution_count": null,
      "outputs": []
    },
    {
      "cell_type": "markdown",
      "metadata": {},
      "source": [
        "1. Visualize the distribution of the daily returns.\n"
      ],
      "id": "b46fadf9"
    },
    {
      "cell_type": "code",
      "metadata": {},
      "source": [
        "#| fig-cap: \"Distribution of daily stock returns.\"\n",
        "from plotnine import *\n",
        "from mizani.formatters import percent_format\n",
        "\n",
        "returns_figure = (\n",
        "  ggplot(returns, aes(x=\"ret\", fill=\"symbol\")) +\n",
        "  geom_histogram(bins=100) +\n",
        "  labs(x=\"\", y=\"\",\n",
        "       title=\"Distribution of daily stock returns\",\n",
        "       fill =\"\") +\n",
        "  facet_wrap(\"symbol\") +\n",
        "  scale_x_continuous(labels=percent_format())\n",
        ")\n",
        "returns_figure.draw()"
      ],
      "id": "b47f44e5",
      "execution_count": null,
      "outputs": []
    },
    {
      "cell_type": "markdown",
      "metadata": {},
      "source": [
        "1. Compute the sample mean $\\mu$ and the variance-covariance matrix $\\Sigma$ of the returns.\n",
        "Which of the individual assets delivered the highest Sharpe ratio (assume the risk-free rate is zero) during the sample period?^[Whenever reporting performance measures, compute annualized values and clearly state how you calculated the measure.]\n",
        "The estimated moments may later be used for the construction of optimal portfolios (@Markowitz1952; @Merton1972)\n"
      ],
      "id": "ad5dccfe"
    },
    {
      "cell_type": "code",
      "metadata": {},
      "source": [
        "returns_matrix = (prices\n",
        "  .pivot(columns=\"symbol\", \n",
        "         values=\"adjusted\", \n",
        "         index=\"date\")\n",
        "  .pct_change()\n",
        "  .dropna()\n",
        ")\n",
        "\n",
        "mu = np.array(returns_matrix.mean()).T\n",
        "sigma = np.array(returns_matrix.cov())\n",
        "\n",
        "sharpe_ratio = pd.DataFrame({\"ticker\": ticker,\n",
        "  \"Sharpe\": np.sqrt(250) * mu / np.sqrt(np.diag(sigma))})"
      ],
      "id": "fa373870",
      "execution_count": null,
      "outputs": []
    },
    {
      "cell_type": "markdown",
      "metadata": {},
      "source": [
        "**Answer: ** The asset with the highest annualized Sharpe-ratio (computed as $\\sqrt{250}\\frac{\\hat\\mu_i}{\\hat\\sigma_i}$, where $\\hat\\mu_i$ is the sample mean of asset $i$s dailies returns and $\\hat\\sigma_i$is the standard deviation of asset $i$s dailys returns) is `{python} sharpe_ratio['ticker'][sharpe_ratio['Sharpe'].idxmax()]` with an annualized Sharpe-ratio of `{python} round(sharpe_ratio['Sharpe'].max(), 3)`. A table with all Sharpe ratios can be found below. "
      ],
      "id": "63386b7a"
    },
    {
      "cell_type": "code",
      "metadata": {},
      "source": [
        "#| tbl-cap: \"Historical annualized Sharpe-ratios\"\n",
        "sharpe_ratio"
      ],
      "id": "8d4acc11",
      "execution_count": null,
      "outputs": []
    },
    {
      "cell_type": "markdown",
      "metadata": {},
      "source": [
        "## How to generate a script to submit for peer feedback?\n",
        "\n",
        "This is easy. Once you are done with working on your quarto file, you simply run the line of code below (in a separate session, not as part of rendering the quarto file itself). Once executed you will see a new R-script which contains only the code."
      ],
      "id": "b454f6c1"
    },
    {
      "cell_type": "code",
      "metadata": {},
      "source": [
        "#| echo: true\n",
        "#| eval: false\n",
        "knitr::purl(\"MA_template.qmd\")"
      ],
      "id": "505a639c",
      "execution_count": null,
      "outputs": []
    }
  ],
  "metadata": {
    "kernelspec": {
      "name": "python3",
      "language": "python",
      "display_name": "Python 3 (ipykernel)"
    }
  },
  "nbformat": 4,
  "nbformat_minor": 5
}