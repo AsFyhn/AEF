{
 "cells": [
  {
   "cell_type": "code",
   "execution_count": 1,
   "metadata": {},
   "outputs": [],
   "source": [
    "import pandas as pd \n",
    "import numpy as np \n",
    "import os \n",
    "# to run the regression\n",
    "import statsmodels.api as sm\n",
    "# import statsmodels.stats.api as sms\n",
    "# plot libraries used\n",
    "from plotnine import *\n",
    "from mizani.formatters import percent_format\n",
    "#  check results are correct with minimizer\n",
    "from scipy.optimize import minimize\n"
   ]
  },
  {
   "cell_type": "markdown",
   "metadata": {},
   "source": [
    "## Load in data"
   ]
  },
  {
   "cell_type": "code",
   "execution_count": 2,
   "metadata": {},
   "outputs": [],
   "source": [
    "df = pd.read_csv(r'../../data/data-exam-2024.csv')"
   ]
  },
  {
   "cell_type": "markdown",
   "metadata": {},
   "source": [
    "## See data"
   ]
  },
  {
   "cell_type": "markdown",
   "metadata": {},
   "source": [
    "# Regression model\n",
    "$$r_{i,t} = \\alpha_i + \\beta_i^{M} r_{m,t} + \\beta_i^{SMB}r_{SMB,t} + \\beta_i^{HML} r_{HML,t} + \\epsilon_{i,t}$$"
   ]
  },
  {
   "cell_type": "markdown",
   "metadata": {},
   "source": [
    "### Question 1\n",
    "Use the data until (including) December 31, 2015 to estimate the parameters of the Fama-French 3 factor model. \n",
    "Report the distribution of the estimated values $\\hat{\\alpha}_i$ and $\\hat{\\beta}_i^{k}$ for all stocks. Give a brief interpretation of the values"
   ]
  },
  {
   "cell_type": "code",
   "execution_count": 53,
   "metadata": {},
   "outputs": [
    {
     "data": {
      "text/html": [
       "<div>\n",
       "<style scoped>\n",
       "    .dataframe tbody tr th:only-of-type {\n",
       "        vertical-align: middle;\n",
       "    }\n",
       "\n",
       "    .dataframe tbody tr th {\n",
       "        vertical-align: top;\n",
       "    }\n",
       "\n",
       "    .dataframe thead th {\n",
       "        text-align: right;\n",
       "    }\n",
       "</style>\n",
       "<table border=\"1\" class=\"dataframe\">\n",
       "  <thead>\n",
       "    <tr style=\"text-align: right;\">\n",
       "      <th></th>\n",
       "      <th>alpha</th>\n",
       "      <th>beta_rm</th>\n",
       "      <th>beta_smb</th>\n",
       "      <th>beta_hml</th>\n",
       "      <th>residuals</th>\n",
       "    </tr>\n",
       "    <tr>\n",
       "      <th>permno</th>\n",
       "      <th></th>\n",
       "      <th></th>\n",
       "      <th></th>\n",
       "      <th></th>\n",
       "      <th></th>\n",
       "    </tr>\n",
       "  </thead>\n",
       "  <tbody>\n",
       "    <tr>\n",
       "      <th>10026</th>\n",
       "      <td>0.010171</td>\n",
       "      <td>0.561058</td>\n",
       "      <td>0.597261</td>\n",
       "      <td>0.443743</td>\n",
       "      <td>0.005144</td>\n",
       "    </tr>\n",
       "    <tr>\n",
       "      <th>10032</th>\n",
       "      <td>0.005192</td>\n",
       "      <td>1.756704</td>\n",
       "      <td>0.863147</td>\n",
       "      <td>-0.259299</td>\n",
       "      <td>0.014166</td>\n",
       "    </tr>\n",
       "    <tr>\n",
       "      <th>10044</th>\n",
       "      <td>0.014266</td>\n",
       "      <td>0.623677</td>\n",
       "      <td>0.108821</td>\n",
       "      <td>0.159633</td>\n",
       "      <td>0.012541</td>\n",
       "    </tr>\n",
       "    <tr>\n",
       "      <th>10107</th>\n",
       "      <td>0.003265</td>\n",
       "      <td>1.196996</td>\n",
       "      <td>-0.270320</td>\n",
       "      <td>-0.628490</td>\n",
       "      <td>0.004936</td>\n",
       "    </tr>\n",
       "    <tr>\n",
       "      <th>10200</th>\n",
       "      <td>0.028509</td>\n",
       "      <td>0.921766</td>\n",
       "      <td>2.101678</td>\n",
       "      <td>-2.065194</td>\n",
       "      <td>0.036567</td>\n",
       "    </tr>\n",
       "    <tr>\n",
       "      <th>...</th>\n",
       "      <td>...</td>\n",
       "      <td>...</td>\n",
       "      <td>...</td>\n",
       "      <td>...</td>\n",
       "      <td>...</td>\n",
       "    </tr>\n",
       "    <tr>\n",
       "      <th>43350</th>\n",
       "      <td>0.004372</td>\n",
       "      <td>1.119928</td>\n",
       "      <td>0.077657</td>\n",
       "      <td>0.720607</td>\n",
       "      <td>0.003487</td>\n",
       "    </tr>\n",
       "    <tr>\n",
       "      <th>43481</th>\n",
       "      <td>0.004215</td>\n",
       "      <td>0.734755</td>\n",
       "      <td>0.811283</td>\n",
       "      <td>1.181009</td>\n",
       "      <td>0.007120</td>\n",
       "    </tr>\n",
       "    <tr>\n",
       "      <th>47379</th>\n",
       "      <td>-0.006998</td>\n",
       "      <td>0.995476</td>\n",
       "      <td>0.937396</td>\n",
       "      <td>1.019079</td>\n",
       "      <td>0.005226</td>\n",
       "    </tr>\n",
       "    <tr>\n",
       "      <th>47626</th>\n",
       "      <td>-0.003655</td>\n",
       "      <td>1.308116</td>\n",
       "      <td>-0.202280</td>\n",
       "      <td>1.217678</td>\n",
       "      <td>0.003579</td>\n",
       "    </tr>\n",
       "    <tr>\n",
       "      <th>63765</th>\n",
       "      <td>0.012225</td>\n",
       "      <td>0.481157</td>\n",
       "      <td>0.339182</td>\n",
       "      <td>0.742509</td>\n",
       "      <td>0.013458</td>\n",
       "    </tr>\n",
       "  </tbody>\n",
       "</table>\n",
       "<p>64 rows × 5 columns</p>\n",
       "</div>"
      ],
      "text/plain": [
       "           alpha   beta_rm  beta_smb  beta_hml  residuals\n",
       "permno                                                   \n",
       "10026   0.010171  0.561058  0.597261  0.443743   0.005144\n",
       "10032   0.005192  1.756704  0.863147 -0.259299   0.014166\n",
       "10044   0.014266  0.623677  0.108821  0.159633   0.012541\n",
       "10107   0.003265  1.196996 -0.270320 -0.628490   0.004936\n",
       "10200   0.028509  0.921766  2.101678 -2.065194   0.036567\n",
       "...          ...       ...       ...       ...        ...\n",
       "43350   0.004372  1.119928  0.077657  0.720607   0.003487\n",
       "43481   0.004215  0.734755  0.811283  1.181009   0.007120\n",
       "47379  -0.006998  0.995476  0.937396  1.019079   0.005226\n",
       "47626  -0.003655  1.308116 -0.202280  1.217678   0.003579\n",
       "63765   0.012225  0.481157  0.339182  0.742509   0.013458\n",
       "\n",
       "[64 rows x 5 columns]"
      ]
     },
     "execution_count": 53,
     "metadata": {},
     "output_type": "execute_result"
    }
   ],
   "source": [
    "# slice dataframe to only have data from before 1st of January 2016\n",
    "df_ff = df.loc[df['month']<='2015-12-31']\n",
    "\n",
    "def ff_regression(data: pd.DataFrame,residuals:bool=True):\n",
    "    \"\"\"This function runs the regression of the ff model\"\"\"\n",
    "    y_value = data['ret_excess']\n",
    "    x_values = data[['mkt_excess','smb','hml']]\n",
    "    res = sm.OLS(y_value, sm.add_constant(x_values)).fit()\n",
    "\n",
    "    if residuals:\n",
    "        return_values = res.resid\n",
    "    else: \n",
    "        return_values = res.params\n",
    "    return return_values\n",
    "    # consider heteroscedacity\n",
    "\n",
    "# run the regression \n",
    "ff_reg_coef_unstack = df_ff.groupby('permno').apply(ff_regression,residuals=False)\n",
    "ff_reg_coef_unstack = ff_reg_coef_unstack.rename(columns={'const':'alpha','mkt_excess':'beta_rm','smb':'beta_smb','hml':'beta_hml'})\n",
    "\n",
    "# join the variance of the residuals\n",
    "residuals = df_ff.groupby('permno').apply(ff_regression,residuals=True)\n",
    "var_res = residuals.reset_index().rename(columns={0:'residuals'}).groupby('permno')['residuals'].var().reset_index()\n",
    "ff_reg_coef_unstack = ff_reg_coef_unstack.merge(var_res,left_index=True,right_on='permno',how='inner').set_index('permno')\n",
    "ff_reg_coef_unstack"
   ]
  },
  {
   "cell_type": "code",
   "execution_count": 61,
   "metadata": {},
   "outputs": [],
   "source": [
    "ff_reg_coef = (ff_reg_coef_unstack.stack()\n",
    "    .reset_index()\n",
    "    .rename(columns={'level_1':'coeff',0:'value'})\n",
    "    )"
   ]
  },
  {
   "cell_type": "code",
   "execution_count": 58,
   "metadata": {},
   "outputs": [
    {
     "name": "stdout",
     "output_type": "stream",
     "text": [
      "Mean of alpha is 0.005\n",
      "Mean of beta_rm is 0.917\n",
      "Mean of beta_smb is 0.477\n",
      "Mean of beta_hml is 0.486\n"
     ]
    }
   ],
   "source": [
    "coeffs = ['alpha','beta_rm','beta_smb','beta_hml']\n",
    "for coeff in coeffs:\n",
    "    print(f\"Mean of {coeff} is {ff_reg_coef.loc[ff_reg_coef['coeff']==coeff,'value'].mean():.3f}\")"
   ]
  },
  {
   "cell_type": "code",
   "execution_count": 63,
   "metadata": {},
   "outputs": [
    {
     "data": {
      "image/png": "[encoded data removed]",
      "text/plain": [
       "<Figure size 600x400 with 4 Axes>"
      ]
     },
     "execution_count": 63,
     "metadata": {
      "image/png": {
       "height": 400,
       "width": 600
      }
     },
     "output_type": "execute_result"
    }
   ],
   "source": [
    "(\n",
    "    ggplot(\n",
    "        ff_reg_coef.query('coeff != \"residuals\"') # we don't want to plot the residuals\n",
    "        ) + \n",
    "    aes(x = 'value') +\n",
    "    geom_histogram(binwidth=0.05, fill='skyblue') +\n",
    "    facet_wrap('coeff',scales='free') + \n",
    "    labs(x='Coefficient',y=element_blank()) +\n",
    "    # theme_minimal() +\n",
    "    theme(\n",
    "      legend_position=(0.15,0.9),\n",
    "      legend_title=element_blank(),\n",
    "      legend_direction='vertical',\n",
    "      figure_size=(6,4),\n",
    "      )\n",
    ").draw()"
   ]
  },
  {
   "cell_type": "markdown",
   "metadata": {},
   "source": [
    "Notes:\n",
    "\n",
    "Interpretation: the mean of alpha is close to 0, while the mean of all the other values are well above zero. This means that an increase to either of the $x$ variable increases so does the stock's excess return."
   ]
  },
  {
   "cell_type": "markdown",
   "metadata": {},
   "source": [
    "##### *Derive the model-implied expected gross excess return $\\hat{\\mu}^{FF}$ and the model-implied variance covariance matrix $\\hat{\\Sigma}^{FF}$. What determines the correlation of the returns?*"
   ]
  },
  {
   "cell_type": "code",
   "execution_count": 16,
   "metadata": {},
   "outputs": [],
   "source": [
    "input_mean_df = df_ff.groupby('permno')[['mkt_excess','smb','hml']].mean()\n",
    "df_ff_model = pd.merge(input_mean_df,ff_reg_coef_unstack,left_index=True,right_index=True,how='inner')\n",
    "chatgpt = df_ff_model['alpha'] + df_ff_model['mkt_excess']*df_ff_model['beta_rm'] + df_ff_model['smb']*df_ff_model['beta_smb'] + df_ff_model['hml']*df_ff_model['beta_hml']\n"
   ]
  },
  {
   "cell_type": "code",
   "execution_count": 17,
   "metadata": {},
   "outputs": [],
   "source": [
    "# merge the estimated coeffcients to the original dataframe\n",
    "df_ff_model = df_ff.merge(ff_reg_coef_unstack,on='permno',how='left')\n",
    "# model the excess return for each stock\n",
    "df_ff_model['ret_excess_model'] = (df_ff_model['alpha'] + \n",
    "                                   df_ff_model['beta_rm']*df_ff_model['mkt_excess'] + \n",
    "                                   df_ff_model['beta_smb']*df_ff_model['smb'] + \n",
    "                                   df_ff_model['beta_hml']*df_ff_model['hml'])\n",
    "# pivot the dataframe to have the excess return for each stock in columns\n",
    "df_ff_model_pivot = df_ff_model.pivot(index='month',columns='permno',values='ret_excess_model')  \n"
   ]
  },
  {
   "cell_type": "code",
   "execution_count": 107,
   "metadata": {},
   "outputs": [
    {
     "data": {
      "text/plain": [
       "array([[0.00645482, 0.00296748, 0.00095505, ..., 0.00228154, 0.0018611 ,\n",
       "        0.00106874],\n",
       "       [0.00296748, 0.02279082, 0.00253653, ..., 0.00488764, 0.00394535,\n",
       "        0.00198743],\n",
       "       [0.00095505, 0.00253653, 0.01339783, ..., 0.00167369, 0.00172978,\n",
       "        0.00079228],\n",
       "       ...,\n",
       "       [0.00228154, 0.00488764, 0.00167369, ..., 0.00928652, 0.00359804,\n",
       "        0.00199656],\n",
       "       [0.0018611 , 0.00394535, 0.00172978, ..., 0.00359804, 0.0083303 ,\n",
       "        0.00205609],\n",
       "       [0.00106874, 0.00198743, 0.00079228, ..., 0.00199656, 0.00205609,\n",
       "        0.01453746]])"
      ]
     },
     "execution_count": 107,
     "metadata": {},
     "output_type": "execute_result"
    }
   ],
   "source": [
    "Sigma_f = df_ff[['mkt_excess', 'smb', 'hml']].cov().values\n",
    "betas = ff_reg_coef_unstack[['beta_rm','beta_smb','beta_hml']].values\n",
    "betas@Sigma_f@betas.T + np.diag(ff_reg_coef_unstack['residuals'].values)\n"
   ]
  },
  {
   "cell_type": "code",
   "execution_count": null,
   "metadata": {},
   "outputs": [],
   "source": [
    "# calculate the mean and covariance matrix\n",
    "mu_ff = df_ff_model_pivot.mean(axis=0).values + 1\n",
    "S_ff = df_ff_model_pivot.cov().values\n",
    "\n",
    "df_ff#.groupby('permno').apply(ff_regression)"
   ]
  },
  {
   "cell_type": "markdown",
   "metadata": {},
   "source": [
    "Tried to decompose the covariance matrix into the three factors but didnt succeed. "
   ]
  },
  {
   "cell_type": "code",
   "execution_count": null,
   "metadata": {},
   "outputs": [],
   "source": [
    "# # initialize a dict with all inputs to ret_excess_model\n",
    "# inputs = {coeff: column for coeff,column in zip(['alpha','beta_rm','beta_smb','beta_hml'],['ones','mkt_excess','smb','hml'])}\n",
    "# inputs_cov = {key: np.nan for key in ['alpha','beta_rm','beta_smb','beta_hml']}\n",
    "# inputs_cov = []\n",
    "# df_ff_model['ones'] = 1\n",
    "\n",
    "# for key, val in inputs.items():\n",
    "#     inputs_cov.append(df_ff_model.assign(x=df_ff_model[key]*df_ff_model[val]).pivot(index='month',columns='permno',values='x').cov().values)\n",
    "\n",
    "\n",
    "# df_ff_model['permno'].unique().shape[0]\n",
    "# decomp_covariance = np.zeros(df_ff_model['permno'].unique().shape[0])\n",
    "# for demp_cov in inputs_cov:\n",
    "    \n"
   ]
  },
  {
   "cell_type": "markdown",
   "metadata": {},
   "source": [
    "It is covariance between the inputs variables that drive the correlation of the returns. But also the covariance between the residuals."
   ]
  },
  {
   "cell_type": "markdown",
   "metadata": {},
   "source": [
    "### Question 3\n",
    "\n",
    "Use your parameter estimates to report the computed implied mean-variance eﬀicient portfolio weight for an investor with risk aversion $\\gamma=4$, defined by the solution to the problem\n",
    "$$\\omega^* = \\arg \\: \\max_{\\Sigma_{i=1}^N w_i=1} \\omega'\\hat{\\mu}^{FF} - \\frac{\\gamma}{2} \\omega' \\hat{\\Sigma}^{FF} \\omega$$\n",
    "has the analytical solution\n",
    "$$\\omega^* = \\frac{1}{\\gamma} (\\Sigma^{-1}  - \\frac{1}{\\iota \\Sigma^{-1} \\iota} \\Sigma^{-1}\\iota \\iota'\\Sigma^{-1} )\\mu + \\frac{1}{\\iota \\Sigma^{-1} \\iota} \\Sigma^{-1}\n",
    "= \\frac{1}{\\gamma} (\\Sigma^{-1} \\mu - \\frac{\\iota \\Sigma^{-1} \\mu - \\gamma}{\\iota \\Sigma^{-1} \\iota} \\Sigma^{-1} \\iota )$$\n"
   ]
  },
  {
   "cell_type": "code",
   "execution_count": null,
   "metadata": {},
   "outputs": [],
   "source": [
    "gamma = 4\n",
    "N = mu_ff.size\n",
    "S_ff_inv = np.linalg.inv(S_ff)\n",
    "iota = np.ones(N)\n",
    "\n",
    "\n",
    "# Calculate the numerator part\n",
    "B = iota @ S_ff_inv\n",
    "C = B @ iota\n",
    "numerator = S_ff_inv @ mu_ff - ((B @ mu_ff - gamma) / C) * (S_ff_inv @ iota)\n",
    "\n",
    "# Calculate the optimal weights\n",
    "weights_analytical = numerator / gamma\n",
    "weights_analytical /= weights_analytical.sum()\n",
    "weights_analytical\n"
   ]
  },
  {
   "cell_type": "code",
   "execution_count": null,
   "metadata": {},
   "outputs": [],
   "source": [
    "\n",
    "l_lambda = (1/(iota.T @ S_ff_inv @ iota)) * (iota.T @ S_ff_inv @ mu_ff - gamma)\n",
    "weights = (mu_ff - l_lambda * iota) @ S_ff_inv / gamma\n",
    "weights /= weights.sum()\n",
    "\n",
    "print(weights)"
   ]
  },
  {
   "cell_type": "code",
   "execution_count": null,
   "metadata": {},
   "outputs": [],
   "source": [
    "obj_fun = lambda w: -((w @ mu_ff) - (gamma / 2) * w.T @ S_ff @ w )\n",
    "opt_w = minimize(\n",
    "    fun=obj_fun,\n",
    "    x0=weights_analytical,\n",
    "    constraints=({'type': 'eq', 'fun': lambda w: np.sum(w) - 1}),\n",
    "    # bounds=[(0, 1) for i in range(N)]\n",
    "    options={'maxiter':1e6}\n",
    ").x"
   ]
  },
  {
   "cell_type": "code",
   "execution_count": null,
   "metadata": {},
   "outputs": [],
   "source": [
    "opt_w"
   ]
  },
  {
   "cell_type": "code",
   "execution_count": null,
   "metadata": {},
   "outputs": [],
   "source": [
    "print(f'Objective function value is {-obj_fun(opt_w)} and for the analytical solution it is {-obj_fun(weights_analytical)}')\n",
    "print(f'it is {-obj_fun(weights)}')"
   ]
  },
  {
   "cell_type": "markdown",
   "metadata": {},
   "source": [
    "# Exercise 2"
   ]
  },
  {
   "cell_type": "code",
   "execution_count": null,
   "metadata": {},
   "outputs": [],
   "source": [
    "df_pp = df.loc[df['month']<='2015-12-31']"
   ]
  },
  {
   "cell_type": "code",
   "execution_count": null,
   "metadata": {},
   "outputs": [],
   "source": [
    "gamma = 4\n",
    "N = df_pp['permno'].unique().size\n",
    "naive_portfolio = 1/N * np.ones((N,df_pp['month'].unique().size))\n",
    "r_it =  df_pp.pivot(index='month',columns='permno',values='ret_excess')\n",
    "\n",
    "df_pp.assign(x=1)\n",
    "\n",
    "def calc_pp_weight(theta): \n",
    "    df_pp.loc[:,'x'] = (df_pp[['beta','size','bm']]*theta.T).sum(axis=1)\n",
    "    return df_pp.pivot(index='month',columns='permno',values='x')*1/N + 1/N\n",
    "\n",
    "def objective_function_ex2(theta):\n",
    "    w_it = calc_pp_weight(theta)\n",
    "    R_pt = (w_it*r_it).sum(axis=1) + 1\n",
    "    E_R = R_pt.mean()\n",
    "    Var_R = R_pt.var()\n",
    "    return -(E_R - (gamma/2)*Var_R)\n",
    "\n",
    "\n",
    "results = minimize(\n",
    "    fun=objective_function_ex2,\n",
    "    x0=np.ones(3),\n",
    "    options={'maxiter':1e6}\n",
    ")\n",
    "theta_hat = results.x \n",
    "theta_hat"
   ]
  },
  {
   "cell_type": "code",
   "execution_count": null,
   "metadata": {},
   "outputs": [],
   "source": [
    "w_pp = calc_pp_weight(theta_hat).iloc[-1,:].values\n",
    "w_pp\n"
   ]
  },
  {
   "cell_type": "markdown",
   "metadata": {},
   "source": [
    "# Exercise 3"
   ]
  },
  {
   "cell_type": "code",
   "execution_count": null,
   "metadata": {},
   "outputs": [],
   "source": [
    "# Estimate the covariance matrix\n",
    "def cov1Para(Y,k = None):\n",
    "    \"\"\"\n",
    "    This function estimates the covariance matrix for the stocks in the crsp_monthly dataset\n",
    "    \"\"\"\n",
    "    #Pre-Conditions: Y is a valid pd.dataframe and optional arg- k which can be\n",
    "    #    None, np.nan or int\n",
    "    #Post-Condition: Sigmahat dataframe is returned\n",
    "\n",
    "    # de-mean returns if required\n",
    "    N,p = Y.shape                      # sample size and matrix dimension\n",
    "   \n",
    "    #default setting\n",
    "    if k is None:\n",
    "        mean = Y.mean(axis=0)\n",
    "        Y = Y.sub(mean, axis=1)                               #demean\n",
    "        k = 1\n",
    "    #vars\n",
    "    n = N-k                                    # adjust effective sample size\n",
    "    \n",
    "    \n",
    "    #Cov df: sample covariance matrix\n",
    "    sample = pd.DataFrame(np.matmul(Y.T.to_numpy(),Y.to_numpy()))/n     \n",
    "    \n",
    "    # compute shrinkage target\n",
    "    diag = np.diag(sample.to_numpy())\n",
    "    meanvar= sum(diag)/len(diag)\n",
    "    target=meanvar*np.eye(p)\n",
    "    \n",
    "    # estimate the parameter that we call pi in Ledoit and Wolf (2003, JEF)\n",
    "    Y2 = pd.DataFrame(np.multiply(Y.to_numpy(),Y.to_numpy()))\n",
    "    sample2= pd.DataFrame(np.matmul(Y2.T.to_numpy(),Y2.to_numpy()))/n     # sample covariance matrix of squared returns\n",
    "    piMat=pd.DataFrame(sample2.to_numpy()-np.multiply(sample.to_numpy(),sample.to_numpy()))\n",
    "    \n",
    "\n",
    "    pihat = sum(piMat.sum())\n",
    "    \n",
    "    # estimate the parameter that we call gamma in Ledoit and Wolf (2003, JEF)\n",
    "    gammahat = np.linalg.norm(sample.to_numpy()-target,ord = 'fro')**2\n",
    "    \n",
    "    # compute shrinkage intensity\n",
    "    kappahat=pihat/gammahat\n",
    "    shrinkage=max(0,min(1,kappahat/n))\n",
    "    \n",
    "    # compute shrinkage estimator\n",
    "    sigmahat=shrinkage*target+(1-shrinkage)*sample\n",
    "    \n",
    "    return sigmahat"
   ]
  },
  {
   "cell_type": "code",
   "execution_count": null,
   "metadata": {},
   "outputs": [],
   "source": [
    "df_pf_train = df.loc[df['month']<='2015-12-31']\n",
    "df_pf_test = df.loc[df['month']>'2015-12-31']\n",
    "\n",
    "# check if the lengths of unqiue permnos are the same\n",
    "if not df_pf_train['permno'].unique().shape[0] == df_pf_test['permno'].unique().shape[0]:\n",
    "    raise ValueError('The number of unique permnos in the training and test set are not the same')"
   ]
  },
  {
   "cell_type": "code",
   "execution_count": null,
   "metadata": {},
   "outputs": [],
   "source": [
    "df_pf_train_pivot = df_pf_train.pivot(index='month',columns='permno',values='ret_excess')\n",
    "mu_tilde = df_pf_train_pivot.mean(axis=0).values\n",
    "S_tilde = cov1Para(df_pf_train_pivot).values\n",
    "del df_pf_train_pivot"
   ]
  },
  {
   "cell_type": "code",
   "execution_count": null,
   "metadata": {},
   "outputs": [],
   "source": [
    "def calculate_min_variance_portfolio(Sigma):\n",
    "    \"\"\"\n",
    "    This function calculates the minimum variance portfolio\n",
    "    \"\"\"\n",
    "    Sigma_inv = np.linalg.inv(Sigma)\n",
    "    w_mvp = Sigma_inv @ iota    \n",
    "    w_mvp = w_mvp/np.sum(w_mvp) # normalize weights\n",
    "    return w_mvp\n",
    "def calculate_efficient_portfolio(Sigma, mu, gamma, return_multiple = 2):\n",
    "    \"\"\"\n",
    "    This function calculates the efficient portfolio\n",
    "    \"\"\"\n",
    "    Sigma_inv = np.linalg.inv(Sigma)\n",
    "    #----- minimum variance portfolio    \n",
    "    mvp_weights = calculate_min_variance_portfolio(Sigma)\n",
    "\n",
    "    #----- efficient frontier portfolio\n",
    "    mu_bar = return_multiple * mvp_weights.T @ mu\n",
    "    C = iota.T @ Sigma_inv @ iota\n",
    "    D = iota.T @ Sigma_inv @ mu\n",
    "    E = mu.T @ Sigma_inv @ mu\n",
    "    lambda_tilde = 2 * (mu_bar - D/C) / (E-D**2/C)\n",
    "    efp_weights = mvp_weights + lambda_tilde/2 * (Sigma_inv@mu - D* mvp_weights ) \n",
    "    return efp_weights\n",
    "\n",
    "def calculate_naive_portfolio(N):\n",
    "    \"\"\"\n",
    "    This function calculates the naive portfolio\n",
    "    \"\"\"\n",
    "    return 1/N * np.ones(N)\n",
    "\n",
    "naive_portfolio = calculate_naive_portfolio(mu_tilde.shape[0])\n",
    "eff_portfolio = calculate_efficient_portfolio(S_tilde, mu_tilde, gamma)\n"
   ]
  },
  {
   "cell_type": "code",
   "execution_count": null,
   "metadata": {},
   "outputs": [],
   "source": [
    "mmr_ni = ((df_pf_test.pivot(index='month',columns='permno',values='ret_excess').values) @ naive_portfolio).mean()\n",
    "mmr_eff = ((df_pf_test.pivot(index='month',columns='permno',values='ret_excess').values) @ eff_portfolio).mean()\n",
    "mmr_opt = ((df_pf_test.pivot(index='month',columns='permno',values='ret_excess').values) @ opt_w).mean()\n",
    "mmr_pp = ((df_pf_test.pivot(index='month',columns='permno',values='ret_excess').values) @ w_pp).mean()\n"
   ]
  },
  {
   "cell_type": "code",
   "execution_count": null,
   "metadata": {},
   "outputs": [],
   "source": [
    "print(f'The mean monthly return for the naive portfolio is {mmr_ni:.3%}')\n",
    "print(f'The mean monthly return for the efficient portfolio is {mmr_eff:.3%}')\n",
    "print(f'The mean monthly return for the efficient portfolio is {mmr_pp:.3%}')"
   ]
  },
  {
   "cell_type": "code",
   "execution_count": null,
   "metadata": {},
   "outputs": [],
   "source": [
    "cov_ni = (naive_portfolio @ df_pf_test.pivot(index='month',columns='permno',values='ret_excess').cov() @ naive_portfolio)\n",
    "cov_eff = (eff_portfolio @ df_pf_test.pivot(index='month',columns='permno',values='ret_excess').cov() @ eff_portfolio)\n",
    "cov_opt = (opt_w @ df_pf_test.pivot(index='month',columns='permno',values='ret_excess').cov() @ opt_w)\n",
    "cov_pp = (w_pp @ df_pf_test.pivot(index='month',columns='permno',values='ret_excess').cov() @ w_pp)\n"
   ]
  },
  {
   "cell_type": "code",
   "execution_count": null,
   "metadata": {},
   "outputs": [],
   "source": [
    "print(f'The variance of the naive portfolio is {cov_ni:.3%}')\n",
    "print(f'The variance of the efficient portfolio is {cov_eff:.3%}')\n",
    "print(f'The variance of the optimal portfolio is {cov_opt:.3%}')\n",
    "print(f'The variance of the paper portfolio is {cov_pp:.3%}')"
   ]
  },
  {
   "cell_type": "code",
   "execution_count": null,
   "metadata": {},
   "outputs": [],
   "source": [
    "def sharpe_ratio(ret,var,fac=12):\n",
    "    \"\"\"\n",
    "    \"\"\"\n",
    "    mmr = ret * fac\n",
    "    std = np.sqrt(var) * np.sqrt(fac)\n",
    "    return mmr/std\n",
    "\n",
    "df_rep = pd.DataFrame({\n",
    "    'Naive': [mmr_ni,cov_ni,sharpe_ratio(mmr_ni,cov_ni)],\n",
    "    'Efficient': [mmr_eff,cov_eff,sharpe_ratio(mmr_eff,cov_eff)],\n",
    "    'Ex1': [mmr_opt,cov_opt,sharpe_ratio(mmr_opt,cov_opt)],\n",
    "    'Ex2': [mmr_pp,cov_pp,sharpe_ratio(mmr_pp,cov_pp)]\n",
    "},index=['Mean','Variance','Sharpe Ratio']).T\n",
    "\n",
    "df_rep.style.format({\n",
    "    'Mean': '{:.2%}',\n",
    "    'Variance': '{:.2%}',\n",
    "    'Sharpe Ratio': '{:.2f}'\n",
    "})"
   ]
  },
  {
   "cell_type": "code",
   "execution_count": null,
   "metadata": {},
   "outputs": [],
   "source": [
    "df_rep_weights = pd.DataFrame({\n",
    "    'Naive': naive_portfolio,\n",
    "    'Efficient': eff_portfolio,\n",
    "    # 'Ex1': opt_w\n",
    "}#,index=df_pf_test['permno'].unique()\n",
    ").stack().reset_index().rename(columns={'level_0':'permno','level_1':'Portfolio',0:'Weight'})\n",
    "print(df_rep_weights )"
   ]
  },
  {
   "cell_type": "code",
   "execution_count": null,
   "metadata": {},
   "outputs": [],
   "source": [
    "(\n",
    "    ggplot(df_rep_weights, aes(x='permno', y='Weight')) + \n",
    "    geom_bar(stat='identity', fill='skyblue') + \n",
    "    facet_wrap('Portfolio',scales='free') +\n",
    "    labs(x='Ticker', y='Weight') +\n",
    "    scale_y_continuous(labels=percent_format()) +\n",
    "                      #  )  +\n",
    "    # theme_minimal() + \n",
    "    theme(\n",
    "          axis_text_x=element_blank(),\n",
    "          axis_ticks_major_x=element_blank(),\n",
    "          # axis_text_x=element_text(angle=90, vjust=0.5, hjust=0.5),\n",
    "          figure_size=(6,4), )\n",
    "        )"
   ]
  },
  {
   "cell_type": "code",
   "execution_count": null,
   "metadata": {},
   "outputs": [],
   "source": []
  }
 ],
 "metadata": {
  "kernelspec": {
   "display_name": "aef",
   "language": "python",
   "name": "python3"
  },
  "language_info": {
   "codemirror_mode": {
    "name": "ipython",
    "version": 3
   },
   "file_extension": ".py",
   "mimetype": "text/x-python",
   "name": "python",
   "nbconvert_exporter": "python",
   "pygments_lexer": "ipython3",
   "version": "3.10.13"
  }
 },
 "nbformat": 4,
 "nbformat_minor": 2
}
